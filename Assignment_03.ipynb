{
 "cells": [
  {
   "cell_type": "markdown",
   "metadata": {},
   "source": [
    "# Assignment 3 Solutions"
   ]
  },
  {
   "cell_type": "markdown",
   "metadata": {},
   "source": [
    "#### 1. Why are functions advantageous to have in your programs?\n",
    "**Ans:** \n",
    "\n",
    "**Advantages of Functions**\n",
    "1. **Reusability**: Write once, use multiple times.\n",
    "2. **Readability**: Organizes code into logical blocks.\n",
    "3. **Debugging**: Easier to isolate and fix issues.\n",
    "4. **Modularity**: Breaks program into manageable parts.\n",
    "5. **Testing**: Test functions independently.\n",
    "6. **Efficiency**: Avoids code duplication, saves time.\n",
    "\n",
    "**Example**:"
   ]
  },
  {
   "cell_type": "code",
   "execution_count": 3,
   "metadata": {},
   "outputs": [
    {
     "name": "stdout",
     "output_type": "stream",
     "text": [
      "Hello, Alice!\n",
      "Hello, BOB!\n"
     ]
    }
   ],
   "source": [
    "def greet(name):\n",
    "    return f\"Hello, {name}!\"\n",
    "\n",
    "print(greet(\"Alice\")) \n",
    "print(greet(\"BOB\"))"
   ]
  },
  {
   "cell_type": "markdown",
   "metadata": {},
   "source": [
    "#### 2. When does the code in a function run: when it's specified or when it's called?\n",
    "**Ans:** The code in a function runs **when it's called**, not when it's specified.\n",
    "\n",
    "**Explanation:**\n",
    "1. **Defining a function**: Only specifies what the function does (its logic) but does not execute it.\n",
    "   ```python\n",
    "   def greet():\n",
    "       print(\"Hello!\")\n",
    "       \n",
    "   ```\n",
    "\n",
    "2. **Calling a function**: Executes the code inside the function.\n",
    "   ```python\n",
    "   greet()  # Output: Hello!\n",
    "   ```\n",
    "\n",
    "**Key Point**: A function runs only when explicitly called in the program."
   ]
  },
  {
   "cell_type": "markdown",
   "metadata": {},
   "source": [
    "#### 3. What statement creates a function?\n",
    "**Ans:** The **`def`** statement creates a function in Python.\r\n",
    "\r\n",
    "##### Example:\r\n",
    "```python\r\n",
    "def greet():\r\n",
    "    print(\"Hello, World!\")\r\n",
    "```"
   ]
  },
  {
   "cell_type": "markdown",
   "metadata": {},
   "source": [
    "#### 4. What is the difference between a function and a function call?\n",
    "**Ans:** A function is procedure to achieve a particular result. while function call is using this function to achive that task. Using a function to do a particular task any point in program is called as function call. "
   ]
  },
  {
   "cell_type": "markdown",
   "metadata": {},
   "source": [
    "#### 5. How many global scopes are there in a Python program? How many local scopes?\n",
    "**Ans:** There is one global scope, and a local scope is created whenever a function is called."
   ]
  },
  {
   "cell_type": "markdown",
   "metadata": {},
   "source": [
    "#### 6. What happens to variables in a local scope when the function call returns?\n",
    "**Ans:** When a function returns, the local scope is destroyed, and all the variables in it are forgotten."
   ]
  },
  {
   "cell_type": "markdown",
   "metadata": {},
   "source": [
    "#### 7. What is the concept of a return value? Is it possible to have a return value in an expression?\n",
    "**Ans**: A return value is the value that a function call evaluates to. Like any value, a return value can be used\n",
    "as part of an expression."
   ]
  },
  {
   "cell_type": "markdown",
   "metadata": {},
   "source": [
    "#### 8. If a function does not have a return statement, what is the return value of a call to that function?\n",
    "**Ans:** If there is no return statement for a function, its return value is `None`."
   ]
  },
  {
   "cell_type": "markdown",
   "metadata": {},
   "source": [
    "#### 9. How do you make a function variable refer to the global variable?\n",
    "**Ans:** A global statement will force a variable in a function to refer to the global variable.\n",
    "If you want to refer to a global variable in a function, you can use the `global` keyword to declare which variables are  global."
   ]
  },
  {
   "cell_type": "markdown",
   "metadata": {},
   "source": [
    "#### 10. What is the data type of None?\n",
    "**Ans:** The data type of None is `NoneType`."
   ]
  },
  {
   "cell_type": "markdown",
   "metadata": {},
   "source": [
    "#### 11. What does the sentence import areallyourpetsnamederic do?\n",
    "**Ans:** That import statement imports a module named areallyourpetsnamederic."
   ]
  },
  {
   "cell_type": "markdown",
   "metadata": {},
   "source": [
    "#### 12. If you had a bacon() feature in a spam module, what would you call it after importing spam?\n",
    "**Ans:** This function can be called with `spam.bacon()`."
   ]
  },
  {
   "cell_type": "markdown",
   "metadata": {},
   "source": [
    "#### 13. What can you do to save a programme from crashing if it encounters an error?\n",
    "**Ans:** Place the line of code that might cause an error in a `try` clause and use except `block` to handle the error."
   ]
  },
  {
   "cell_type": "markdown",
   "metadata": {},
   "source": [
    "#### 14. What is the purpose of the try clause? What is the purpose of the except clause?\n",
    "ANS:The code that could potentially cause an error goes in the `try` clause. The code that executes if an error happens goes in the `except` clause."
   ]
  },
  {
   "cell_type": "markdown",
   "metadata": {},
   "source": [
    "#### 4. What is the difference between a function and a function call?\n",
    "\n",
    "**Ans:**  \n",
    "\n",
    "**Difference Between a Function and a Function Call**\n",
    "\n",
    "1. **Function**:\n",
    "   - A block of code defined using the `def` keyword.\n",
    "   - It specifies what the function does but doesn't execute it.\n",
    "   - Example:\n",
    "     ```python\n",
    "     def greet():\n",
    "         print(\"Hello!\")\n",
    "         \n",
    "     ```\n",
    "\n",
    "2. **Function Call**:\n",
    "   - Executes the code inside the function.\n",
    "   - Example:\n",
    "     ```python\n",
    "     greet()  # Calls the greet function and prints \"Hello!\"\n",
    "     ```\n",
    "\n",
    "**Key Point**: A function is the definition, while a function call is its execution."
   ]
  },
  {
   "cell_type": "markdown",
   "metadata": {},
   "source": [
    "#### 5. How many global scopes are there in a Python program? How many local scopes?\n",
    "\n",
    "**Ans:**\n",
    "  \n",
    "- **Global Scope**: Only **one** exists per program.  \n",
    "- **Local Scopes**: Multiple, one for each function or block.  \n",
    "\n",
    "**Example**:\n",
    "```python\n",
    "x = 10  # Global scope\n",
    "\n",
    "def func():\n",
    "    y = 5  # Local scope\n",
    "    print(y)\n",
    "\n",
    "func()\n",
    "```"
   ]
  },
  {
   "cell_type": "markdown",
   "metadata": {},
   "source": [
    "#### 6. What happens to variables in a local scope when the function call returns?\n",
    "**Ans:** When a function call returns, **variables in the local scope are destroyed**. They exist only during the execution of the function and are removed from memory after the function finishes.\n",
    "\n",
    "##### Example:\n",
    "```python\n",
    "def my_function():\n",
    "    x = 10  # Local variable\n",
    "    print(x)\n",
    "\n",
    "my_function()  # Outputs: 10\n",
    "print(x)  # Error: NameError, x is not defined\n",
    "```\n",
    "\n",
    "**Key Point**: Local variables are temporary and cannot be accessed outside the function."
   ]
  },
  {
   "cell_type": "markdown",
   "metadata": {},
   "source": [
    "#### 8. If a function does not have a return statement, what is the return value of a call to that function?\n",
    "**Ans:** If a function does not have a `return` statement, it returns **`None`** by default.--##\r\n",
    "\r\n",
    "### Example:\r\n",
    "```python\r\n",
    "def my_function():\r\n",
    "    print(\"Hello!\")\r\n",
    "\r\n",
    "result = my_function()  # No return statement\r\n",
    "print(result)  # Out\n",
    "puts: None\r\n",
    "```\r\n",
    "\r\n",
    "**Key Point**: Functions without a `return` statement implicitly return `None`."
   ]
  },
  {
   "cell_type": "markdown",
   "metadata": {},
   "source": [
    "#### 9. How do you make a function variable refer to the global variable?\n",
    "**Ans:** To make a function variable refer to a global variable, use the **`global`** keyword inside the function. This tells Python to use the variable from the global scope instead of creating a local one.\n",
    "\n",
    "##### Example:\n",
    "```python\n",
    "x = 10  # Global variable\n",
    "\n",
    "def modify_global():\n",
    "    global x  # Refer to the global variable x\n",
    "    x = 20  # Modify the global variable\n",
    "\n",
    "modify_global()\n",
    "print(x)  # Outputs: 20\n",
    "```\n",
    "\n",
    "**Key Point**: The `global` keyword allows you to access and modify global variables inside a function."
   ]
  },
  {
   "cell_type": "markdown",
   "metadata": {},
   "source": [
    "#### 10. What is the data type of None?\n",
    "**Ans:** The data type of `None` is **`NoneType`**.\n",
    "\n",
    "##### Example:\n",
    "```python\n",
    "x = None\n",
    "print(type(x))  # Output: <class 'NoneType'>\n",
    "```\n",
    "\n",
    "**Key Point**: `None` represents the absence of a value or a null value, and its type is `NoneType`."
   ]
  },
  {
   "cell_type": "markdown",
   "metadata": {},
   "source": [
    "#### 11. What does the sentence import areallyourpetsnamederic do?\n",
    "**Ans:** The statement `import areallyourpetsnamederic` tries to import a module with that name. If it doesn’t exist, Python raises a **`ModuleNotFoundError`**."
   ]
  },
  {
   "cell_type": "markdown",
   "metadata": {},
   "source": [
    "#### 12. If you had a bacon() feature in a spam module, what would you call it after importing spam?\n",
    "**Ans:** This function can be called with `spam.bacon()`."
   ]
  },
  {
   "cell_type": "markdown",
   "metadata": {},
   "source": [
    "#### 13. What can you do to save a programme from crashing if it encounters an error?\n",
    "**Ans:** Use **`try` and `except`** to handle errors and prevent crashes.\r\n",
    "\r\n",
    "##### Example:\r\n",
    "```python\r\n",
    "try:\r\n",
    "    result = 10 / 0  # Risky code\r\n",
    "except ZeroDivisionError:\r\n",
    "    print(\"Cannot divide by zero!\")  # Handle error\r\n",
    "```\r\n",
    "\r\n",
    "**Key Point**: The program handles the error and continues running."
   ]
  },
  {
   "cell_type": "markdown",
   "metadata": {},
   "source": [
    "#### 14. What is the purpose of the try clause? What is the purpose of the except clause?\n",
    "**Ans:** \n",
    "\n",
    "##### **Purpose of `try` and `except` Clauses:**\n",
    "\n",
    "- **`try` clause**: Contains code that might raise an error. It allows the program to attempt execution without crashing immediately.\n",
    "  \n",
    "- **`except` clause**: Defines how to handle specific errors if they occur in the `try` block, preventing the program from crashing.\n",
    "\n",
    "### Example:\n",
    "```python\n",
    "try:\n",
    "    result = 10 / 0  # Risky code\n",
    "except ZeroDivisionError:\n",
    "    print(\"Error: Cannot divide by zero!\")  # Handle error\n",
    "```"
   ]
  }
 ],
 "metadata": {
  "kernelspec": {
   "display_name": "Python 3 (ipykernel)",
   "language": "python",
   "name": "python3"
  },
  "language_info": {
   "codemirror_mode": {
    "name": "ipython",
    "version": 3
   },
   "file_extension": ".py",
   "mimetype": "text/x-python",
   "name": "python",
   "nbconvert_exporter": "python",
   "pygments_lexer": "ipython3",
   "version": "3.12.4"
  }
 },
 "nbformat": 4,
 "nbformat_minor": 4
}
