{
 "cells": [
  {
   "cell_type": "markdown",
   "metadata": {},
   "source": [
    "# Assignment 01 Solutions"
   ]
  },
  {
   "cell_type": "markdown",
   "metadata": {},
   "source": [
    "---"
   ]
  },
  {
   "cell_type": "markdown",
   "metadata": {},
   "source": [
    "### 1. In the below elements which of them are values or an expression? **eg:-** values can be integer or string and expressions will be mathematical operators.  \n",
    "    *,'hello', -87.8, -, /, +, 6\n",
    "\n",
    "**Ans:** \n",
    "\n",
    "    * , - , / , + are Operators\n",
    "    'hello', 87.8, 6 are values"
   ]
  },
  {
   "cell_type": "markdown",
   "metadata": {},
   "source": [
    "### 2. What is the difference between string and variable?\n",
    "\n",
    "**Ans:** \n",
    "\n",
    "A variable is a location in memory used to store some data (value). They are given unique names to differentiate between different memory locations.(or) A variable is simply a name to which a value can be assigned.\n",
    "\n",
    "A string in Python consists of a series or sequence of characters - letters, numbers, and special characters.\n",
    "\n",
    "We can use single quotes or double quotes to represent strings and Multi-line strings can be denoted using triple quotes, ''' or \"\"\"."
   ]
  },
  {
   "cell_type": "markdown",
   "metadata": {},
   "source": [
    "### 3. Describe three different Data Types ?\n",
    "\n",
    "**Ans:** \n",
    "\n",
    "Python provides three main data types:\n",
    "\n",
    "* Numbers\n",
    "\n",
    "* Booleans\n",
    "\n",
    "* Strings\n",
    "\n",
    "**1. Numbers**\n",
    "\n",
    "Integers, floating point numbers and complex numbers falls under Python numbers category.\n",
    "\n",
    "They are defined as int, float and complex class in Python.\n",
    "\n",
    "\n",
    "**2. Boolean**\n",
    "\n",
    "Boolean (also known as bool) data type allows us to choose between two values: true and false.\n",
    "\n",
    "A Boolean is used to determine whether the logic of an expression or a comparison is correct. It plays a huge role in data comparisons.\n",
    "\n",
    "\n",
    "**3. Strings**\n",
    "\n",
    "A string in Python consists of a series or sequence of Unicode characters or characters - letters, numbers, and special characters.\n",
    "\n",
    "We can use single quotes or double quotes to represent strings and Multi-line strings can be denoted using triple quotes, ''' or \"\"\"."
   ]
  },
  {
   "cell_type": "code",
   "execution_count": 53,
   "metadata": {},
   "outputs": [
    {
     "name": "stdout",
     "output_type": "stream",
     "text": [
      "Example for Numbers\n",
      "2 is of type <class 'int'>\n",
      "2.0 is of type <class 'float'>\n",
      "(2+0j) is of type <class 'complex'>\n",
      "\n",
      "Example for Booleans\n",
      "True is of type <class 'bool'>\n",
      "\n",
      "Example for Strings\n",
      "Game of Thrones is of type <class 'str'>\n"
     ]
    }
   ],
   "source": [
    "print(\"Example for Numbers\")\n",
    "num=2\n",
    "print(num, \"is of type\", type(num))\n",
    "num=2.0\n",
    "print(num, \"is of type\", type(num))\n",
    "num=2+0.0j\n",
    "print(num, \"is of type\", type(num))\n",
    "print(\"\")\n",
    "print(\"Example for Booleans\")\n",
    "a = True \n",
    "print (a,\"is of type\", type (a))\n",
    "print(\"\")\n",
    "print(\"Example for Strings\")\n",
    "got = 'Game of Thrones'\n",
    "print (got,\"is of type\", type (got))"
   ]
  },
  {
   "cell_type": "markdown",
   "metadata": {},
   "source": [
    "### 4. What is an expression made up of? What do all expressions do?\n",
    "\n",
    "**Ans:** \n",
    "An expression is a combination of variables or values and operators.\n",
    "If we give an expression to python interpreter it wll evaluates the expression and displays the result."
   ]
  },
  {
   "cell_type": "code",
   "execution_count": 22,
   "metadata": {},
   "outputs": [
    {
     "data": {
      "text/plain": [
       "8"
      ]
     },
     "execution_count": 22,
     "metadata": {},
     "output_type": "execute_result"
    }
   ],
   "source": [
    "a=5\n",
    "b=3\n",
    "a+b # a+b an Expression, The Python Interpreter Evaluates it to 8"
   ]
  },
  {
   "cell_type": "markdown",
   "metadata": {},
   "source": [
    "### 5.This assignment statements, like spam = 10. What is the difference between an expression and a statement?\n",
    "\n",
    "**Ans:** An expression is a combination of variables or values and operators. If we give an expression to python interpreter it wll evaluates the expression and displays the result.\n",
    "\n",
    "**eg:** 5+3 is an example of a statement\n",
    "\n",
    "A statement is a unit of code that has an effect, like creating a variable or displaying a value.When we type a statement,the interpreter executes it, which means that it does whatever the statement says. In general, statements don’t have values.\n",
    "\n",
    "**eg:** a=3, print(a)"
   ]
  },
  {
   "cell_type": "markdown",
   "metadata": {},
   "source": [
    "#### 6.After running the following code, what does the variable bacon contain?\n",
    "    bacon = 22  \n",
    "    bacon + 1\n",
    "\n",
    "**Ans:** \n",
    "\n",
    "First line is a statement **bacon = 22**, So the value is stores in the variable **bacon**. \n",
    "\n",
    "Second line is an expression **bacon + 1** so it returns a value. \n",
    "\n",
    "But the value is not assign to any variable or reassigned to bacon. So the value of the **bacon** is **unchanged** so it contains the value 22."
   ]
  },
  {
   "cell_type": "code",
   "execution_count": 25,
   "metadata": {},
   "outputs": [
    {
     "name": "stdout",
     "output_type": "stream",
     "text": [
      "22\n"
     ]
    }
   ],
   "source": [
    "bacon=22\n",
    "bacon+1\n",
    "print(bacon)"
   ]
  },
  {
   "cell_type": "markdown",
   "metadata": {},
   "source": [
    "### 7.What should the values of the following two terms be?  \n",
    "\n",
    "    'spam'+'spamspam' \n",
    "    'spam'*3\n",
    "\n",
    "**Ans:** \n",
    "\n",
    "value of both expressions returns ***spamspamspam***\n",
    "\n",
    "    first expression - String Concatentation \n",
    "    second expression - String Multiplication"
   ]
  },
  {
   "cell_type": "code",
   "execution_count": 26,
   "metadata": {},
   "outputs": [
    {
     "name": "stdout",
     "output_type": "stream",
     "text": [
      "spamspamspam\n",
      "spamspamspam\n"
     ]
    }
   ],
   "source": [
    "print('spam'+'spamspam') \n",
    "print('spam'*3)"
   ]
  },
  {
   "cell_type": "markdown",
   "metadata": {},
   "source": [
    "### 8. Why is eggs a valid variable name while 100 is invalid?\n",
    "\n",
    "**Ans:** \n",
    "\n",
    "There are certain rules we have to follow when picking the name for a variable:\n",
    "\n",
    "1. The name can start with an ***upper or lower case*** alphabet.\n",
    "\n",
    "       For example, you can define your income variable as Income or income, both are valid.\n",
    "\n",
    "2. All the names are ***case sensitive***.\n",
    "\n",
    "       For example, Income and income are two different variables and not one.\n",
    "\n",
    "3. A ***number*** can appear in the name, but ***not at the beginning***.\n",
    "\n",
    "       For example, 12income is not a valid name but income12 or in12come are valid.\n",
    "\n",
    "4. The **_** character can appear **anywhere** in the name.\n",
    "\n",
    "       For example, _income or income_ are valid names.\n",
    "\n",
    "5. ***Spaces are not allowed***. Instead, we must use snake_case to make variable names readable.\n",
    "\n",
    "       For example, monthly_income is a valid name.\n",
    "\n",
    "6. The ***name of the variable should be something meaningful*** that describes the value it holds, instead of being random characters.\n",
    "\n",
    "       For example, inc or even income would not give any useful information but names like \n",
    "       weekly_income, monthly_income, or annual_income explain the purpose of our defined \n",
    "       variable"
   ]
  },
  {
   "cell_type": "markdown",
   "metadata": {},
   "source": [
    "### 9.What three functions can be used to get the integer,floating-point number,or string version of a value?\n",
    "\n",
    "**Ans:** \n",
    "\n",
    "**int()** - when we pass an integer/float to this function it returns interger   \n",
    "\n",
    "**float()** - when we pass a integer/floating-point number to this function it returns floating-point number\n",
    "\n",
    "**str()** - when we pass a integer/floating-point number to this function it returns string \n"
   ]
  },
  {
   "cell_type": "code",
   "execution_count": 74,
   "metadata": {},
   "outputs": [
    {
     "name": "stdout",
     "output_type": "stream",
     "text": [
      "int(2.09) = 2 is of type <class 'int'>\n",
      "float(2) =  2.0 is of type <class 'float'>\n",
      "str(2) =  2 is of type <class 'str'>\n"
     ]
    }
   ],
   "source": [
    "# int() function converts given input to int\n",
    "print('int(2.09) =',int(2.09), 'is of type', type(int(2.09))) \n",
    "\n",
    "# float() function converts given input to float\n",
    "print('float(2) = ',float(2),'is of type', type(float(2)))\n",
    "\n",
    "# str() function converts given input to string# Example:\n",
    "print('str(2) = ',str(2), 'is of type', type(str(2)))"
   ]
  },
  {
   "cell_type": "markdown",
   "metadata": {},
   "source": [
    "### 10.Why does this expression cause an error? how can you fix it?  \n",
    "\n",
    "    'I have eaten ' + 99 + 'burritos.'\n",
    "\n",
    "**Ans:** \n",
    "\n",
    "This causes an error because 99 is not a string. So, we cannot do **String Concatination**. To fix this 99 must be typecasted to a string as below."
   ]
  },
  {
   "cell_type": "code",
   "execution_count": 9,
   "metadata": {},
   "outputs": [
    {
     "name": "stdout",
     "output_type": "stream",
     "text": [
      "I have eaten 99 burritos\n"
     ]
    }
   ],
   "source": [
    "print('I have eaten '+str(99)+' burritos')"
   ]
  },
  {
   "cell_type": "markdown",
   "metadata": {},
   "source": [
    "---"
   ]
  }
 ],
 "metadata": {
  "kernelspec": {
   "display_name": "Python 3 (ipykernel)",
   "language": "python",
   "name": "python3"
  },
  "language_info": {
   "codemirror_mode": {
    "name": "ipython",
    "version": 3
   },
   "file_extension": ".py",
   "mimetype": "text/x-python",
   "name": "python",
   "nbconvert_exporter": "python",
   "pygments_lexer": "ipython3",
   "version": "3.9.12"
  }
 },
 "nbformat": 4,
 "nbformat_minor": 4
}
