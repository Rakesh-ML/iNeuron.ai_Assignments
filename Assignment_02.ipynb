{
 "cells": [
  {
   "cell_type": "markdown",
   "metadata": {},
   "source": [
    "# Assignment 2 Solutions"
   ]
  },
  {
   "cell_type": "markdown",
   "metadata": {},
   "source": [
    "#### 1.What are the two values of the boolean data types? how do you write them ?\n",
    "**Ans**: In Python, the two values of the **boolean data type** are:\n",
    "\n",
    "1. **`True`**  \n",
    "2. **`False`**\n",
    "\n",
    "These values are case-sensitive, we have to use capital **T** and **F** and with the rest of the word in lowercase. Writing them as `true` or `false` (all lowercase) will result in a syntax error. Booleans are commonly used in conditional statements and logical operations.\n",
    "\n",
    "##### Example:"
   ]
  },
  {
   "cell_type": "code",
   "execution_count": 7,
   "metadata": {},
   "outputs": [
    {
     "name": "stdout",
     "output_type": "stream",
     "text": [
      "True <class 'bool'>\n",
      "False <class 'bool'>\n"
     ]
    }
   ],
   "source": [
    "is_active = True\n",
    "is_verified = False\n",
    "\n",
    "print(is_active,type(is_active))  \n",
    "print(is_verified,type(is_verified))"
   ]
  },
  {
   "attachments": {},
   "cell_type": "markdown",
   "metadata": {},
   "source": [
    "#### 2. What are the three different types of Boolean operators?\n",
    "\n",
    "**Ans**: Boolean operators are used to perform logical operations in Python. There are three main Boolean operators:\n",
    "\n",
    "1. **`and` (Logical AND)**  \n",
    "   - Combines two conditions and returns `True` only if **both conditions are true**.  \n",
    "   - Example:\n",
    "     ```python\n",
    "     condition1 = True\n",
    "     condition2 = False\n",
    "     result = condition1 and condition2\n",
    "     print(result)  # Outputs: False\n",
    "     ``` \n",
    "<br>\n",
    "\n",
    "2. **`or` (Logical OR)**  \n",
    "   - Combines two conditions and returns `True` if **at least one condition is true**.  \n",
    "   - Example:\n",
    "     ```python\n",
    "     condition1 = True\n",
    "     condition2 = False\n",
    "     result = condition1 or condition2\n",
    "     print(result)  # Outputs: True\n",
    "     ```\n",
    "<br>\n",
    "\n",
    "3. **`not` (Logical NOT)**  \n",
    "   - Reverses the value of a condition. If a condition is `True`, it becomes `False`, and vice versa.  \n",
    "   - Example:\n",
    "     ```python\n",
    "     condition = True\n",
    "     result = not condition\n",
    "     print(result)  # Outputs: False\n",
    "     ```\n",
    "\n",
    "##### Use Case:\n",
    "Boolean operators are commonly used in conditional statements like `if`, `while`, and logical expressions."
   ]
  },
  {
   "cell_type": "markdown",
   "metadata": {},
   "source": [
    "#### 3. Make a list of each Boolean operator's truth tables (i.e. every possible combination of Boolean values for the operator and what it evaluate) ?\n",
    "\n",
    "**Ans:** Here are the truth tables for the three Boolean operators (`and`, `or`, and `not`):\n",
    "\n",
    "##### **1. Truth Table for `and` (Logical AND)**  \n",
    "The `and` operator evaluates to `True` only if **both operands are `True`**.\n",
    "\n",
    "| Operand 1 | Operand 2 | Result (`Operand 1 and Operand 2`) |\n",
    "|-----------|-----------|------------------------------------|\n",
    "| `True`    | `True`    | `True`                             |\n",
    "| `True`    | `False`   | `False`                            |\n",
    "| `False`   | `True`    | `False`                            |\n",
    "| `False`   | `False`   | `False`                            |\n",
    "\n",
    "\n",
    "##### **2. Truth Table for `or` (Logical OR)**  \n",
    "The `or` operator evaluates to `True` if **at least one operand is `True`**.\n",
    "\n",
    "| Operand 1 | Operand 2 | Result (`Operand 1 or Operand 2`) |\n",
    "|-----------|-----------|-----------------------------------|\n",
    "| `True`    | `True`    | `True`                            |\n",
    "| `True`    | `False`   | `True`                            |\n",
    "| `False`   | `True`    | `True`                            |\n",
    "| `False`   | `False`   | `False`                           |\n",
    "\n",
    "\n",
    "##### **3. Truth Table for `not` (Logical NOT)**  \n",
    "The `not` operator reverses the value of the operand.  \n",
    "\n",
    "| Operand   | Result (`not Operand`) |\n",
    "|-----------|-------------------------|\n",
    "| `True`    | `False`                 |\n",
    "| `False`   | `True`                  |\n",
    "\n",
    "\n",
    "##### How to Use the Truth Tables:\n",
    "These truth tables are the foundation of logical operations in Python and are useful in building conditional statements and logical expressions."
   ]
  },
  {
   "cell_type": "markdown",
   "metadata": {},
   "source": [
    "#### 4. What are the values of the following expressions ?\n",
    "* (5 &gt; 4) and (3 == 5)  \n",
    "* not (5 &gt; 4)  \n",
    "* (5 &gt; 4) or (3 == 5)  \n",
    "* not ((5 &gt; 4) or (3 == 5))  \n",
    "* (True and True) and (True == False)  \n",
    "* (not False) or (not True)  "
   ]
  },
  {
   "cell_type": "code",
   "execution_count": 3,
   "metadata": {},
   "outputs": [
    {
     "name": "stdout",
     "output_type": "stream",
     "text": [
      "False\n",
      "False\n",
      "True\n",
      "False\n",
      "False\n",
      "True\n"
     ]
    }
   ],
   "source": [
    "print((5>4)and(3==5)) # False\n",
    "print(not(5>4)) # False\n",
    "print((5>4)or(3==5)) # True\n",
    "print(not((5>4)or(3==5))) # False\n",
    "print((True and True)and(True==False)) # False\n",
    "print((not False)or(not True)) # True"
   ]
  },
  {
   "attachments": {},
   "cell_type": "markdown",
   "metadata": {},
   "source": [
    "#### 5. What are the six comparison operators?\n",
    "**Ans:**  In Python, the six **comparison operators** are used to compare two values and return a boolean (`True` or `False`) based on the comparison. Here’s a list of the six operators with examples:\n",
    "\n",
    "##### **1. Equal to (`==`)**\n",
    "- Checks if two values are equal.\n",
    "- Example:\n",
    "  ```python\n",
    "  5 == 5  # True\n",
    "  5 == 3  # False\n",
    "  ```\n",
    "\n",
    "##### **2. Not Equal to (`!=`)**\n",
    "- Checks if two values are not equal.\n",
    "- Example:\n",
    "  ```python\n",
    "  5 != 3  # True\n",
    "  5 != 5  # False\n",
    "  ```\n",
    "\n",
    "##### **3. Greater Than (`>`)**\n",
    "- Checks if the left value is greater than the right value.\n",
    "- Example:\n",
    "  ```python\n",
    "  7 > 3  # True\n",
    "  3 > 7  # False\n",
    "  ```\n",
    "\n",
    "##### **4. Less Than (`<`)**\n",
    "- Checks if the left value is less than the right value.\n",
    "- Example:\n",
    "  ```python\n",
    "  3 < 7  # True\n",
    "  7 < 3  # False\n",
    "  ```\n",
    "\n",
    "##### **5. Greater Than or Equal To (`>=`)**\n",
    "- Checks if the left value is greater than or equal to the right value.\n",
    "- Example:\n",
    "  ```python\n",
    "  7 >= 7  # True\n",
    "  7 >= 3  # True\n",
    "  ```\n",
    "\n",
    "##### **6. Less Than or Equal To (`<=`)**\n",
    "- Checks if the left value is less than or equal to the right value.\n",
    "- Example:\n",
    "  ```python\n",
    "  3 <= 7  # True\n",
    "  7 <= 7  # True\n",
    "  7 <= 3  # False\n",
    "  ```\n",
    "\n",
    "##### Use Cases:\n",
    "These comparison operators are commonly used in **if statements**, **loops**, and logical conditions."
   ]
  },
  {
   "cell_type": "markdown",
   "metadata": {},
   "source": [
    "#### 6. How do you tell the difference between the equal to and assignment operators?Describe a condition and when you would use one ? \n",
    "**Ans:**\n"
   ]
  },
  {
   "cell_type": "markdown",
   "metadata": {},
   "source": [
    "**Difference Between the Equal To (`==`) and Assignment (`=`) Operators**\n",
    "\n",
    "1. **Equal To (`==`)**\n",
    "   - This is a **comparison operator** used to check if two values are the same.\n",
    "   - It evaluates the condition and returns `True` if the values are equal or `False` otherwise.\n",
    "   - Example:\n",
    "     ```python\n",
    "     x = 5  # Assignment operator\n",
    "     print(x == 5)  # Checks if x is equal to 5; Outputs: True\n",
    "\n",
    "     \n",
    "     ```\n",
    "\n",
    "2. **Assignment (`=`)**\n",
    "   - This is used to **assign a value** to a variable.\n",
    "   - It does not return a value but simply stores the value on the right-hand side into the variable on the left-hand side.\n",
    "   - Example:\n",
    "     ```python\n",
    "     x = 5  # Assigns the value 5 to the variable x\n",
    "     print(x)  # Outputs: 5\n",
    "     ```\n",
    "\n",
    "##### **Condition and When to Use Each**\n",
    "\n",
    "###### **Using `=` (Assignment)**\n",
    "- Use the `=` operator when you need to **store a value** in a variable.\n",
    "- Example:\n",
    "  ```python\n",
    "  age = 25  # Assigns 25 to the variable 'age'\n",
    "  ```\n",
    "\n",
    "###### **Using `==` (Equal To)**\n",
    "- Use the `==` operator when you need to **compare two values** in a condition.\n",
    "- Example:\n",
    "  ```python\n",
    "  age = 25  # Assignment\n",
    "  if age == 25:  # Comparison\n",
    "      print(\"You are 25 years old!\")  # Outputs this message if age is 25\n",
    "  ```\n",
    "\n",
    "##### Common Mistake:\n",
    "- Accidentally using `=` instead of `==` in a condition will cause a syntax error in Python.\n",
    "  ```python\n",
    "  if x = 5:  # This will raise a syntax error\n",
    "      print(\"Equal\")\n",
    "  ```\n",
    "\n",
    "##### Key Takeaway:\n",
    "Use `=` for **assignment** and `==` for **comparison** in logical expressions."
   ]
  },
  {
   "cell_type": "markdown",
   "metadata": {},
   "source": [
    "#### 7. Identify the three blocks in this code:\n",
    "spam = 0  \n",
    "if spam == 10:  \n",
    "print('eggs')  \n",
    "if spam > 5:  \n",
    "print('bacon')  \n",
    "else:  \n",
    "print('ham')  \n",
    "print('spam')  \n",
    "print('spam')\n",
    "\n",
    "**Ans**: In Python, a code block refers to a group of lines of code that belong together and are executed as a single unit. Code blocks are defined by their indentation level."
   ]
  },
  {
   "cell_type": "code",
   "execution_count": 49,
   "metadata": {},
   "outputs": [
    {
     "name": "stdout",
     "output_type": "stream",
     "text": [
      "ham\n",
      "spam\n",
      "spam\n"
     ]
    }
   ],
   "source": [
    "spam = 0  \n",
    "if spam == 10:  \n",
    "    print('eggs')   # block #1\n",
    "if spam > 5:  \n",
    "    print('bacon')  # block #2\n",
    "else:  \n",
    "    print('ham')    # block #3\n",
    "print('spam')  \n",
    "print('spam')"
   ]
  },
  {
   "cell_type": "markdown",
   "metadata": {},
   "source": [
    "#### 8. Write code that prints Hello if 1 is stored in spam, prints Howdy if 2 is stored in spam, and prints Greetings! if anything else is stored in spam.\n"
   ]
  },
  {
   "cell_type": "code",
   "execution_count": 51,
   "metadata": {},
   "outputs": [
    {
     "name": "stdout",
     "output_type": "stream",
     "text": [
      "Hello\n",
      "Howdy\n",
      "Greetings\n"
     ]
    }
   ],
   "source": [
    "def spamCode(spam):\n",
    "    if spam==1:\n",
    "        print('Hello')\n",
    "    elif spam==2:\n",
    "        print('Howdy')\n",
    "    else:\n",
    "        print('Greetings')\n",
    "\n",
    "# Example usage\n",
    "spamCode(1) \n",
    "spamCode(2)\n",
    "spamCode(3)"
   ]
  },
  {
   "cell_type": "markdown",
   "metadata": {},
   "source": [
    "#### 9. If your programme is stuck in an endless loop, what keys you’ll press?\n",
    "**Ans:** Press `Ctrl-c` to stop a program stuck in an infinite loop\n",
    "\n",
    "**`Ctrl + C`**\n",
    "- This sends an interrupt signal to the running program, forcing it to stop.\n",
    "- Works for most terminal-based programs, including Python scripts."
   ]
  },
  {
   "cell_type": "markdown",
   "metadata": {},
   "source": [
    "#### 10. How can you tell the difference between break and continue?\n",
    "**Ans:** \n",
    "\n",
    "##### **`break` vs `continue`**\n",
    "\n",
    "1. **`break`**: Exits the loop completely.  \n",
    "   **Example**:\n",
    "   ```python\n",
    "   for i in range(5):\n",
    "       if i == 3:\n",
    "           break\n",
    "       print(i)  # Output: 0, 1, 2\n",
    "       \n",
    "   ```\n",
    "\n",
    "2. **`continue`**: Skips the current iteration and moves to the next one.  \n",
    "   **Example**:\n",
    "   ```python\n",
    "   for i in range(5):\n",
    "       if i == 3:\n",
    "           continue\n",
    "       print(i)  # Output: 0, 1, 2, 4\n",
    "   ```\n",
    "\n",
    "**Key Difference**:  \n",
    "- `break` **stops** the loop.  \n",
    "- `continue` **skips** an iteration."
   ]
  },
  {
   "cell_type": "markdown",
   "metadata": {},
   "source": [
    "#### 11. In a for loop, what is the difference between range(10), range(0, 10), and range(0, 10, 1)?\n",
    "**Ans:** The Differences are as follows: \n",
    "- **`range(10)`**: Starts at `0`, ends at `10`, step `1` (default).\n",
    "- **`range(0, 10)`**: Same as `range(10)`, but explicitly sets start at `0`.\n",
    "- **`range(0, 10, 1)`**: Same as above, but explicitly sets step to `1`.\n",
    "\n",
    "All three produce the same output: `0, 1, 2, 3, 4, 5, 6, 7, 8, 9`."
   ]
  },
  {
   "cell_type": "markdown",
   "metadata": {},
   "source": [
    "#### 12. Write a short program that prints the numbers 1 to 10 using a for loop. Then write an equivalent program that prints the numbers 1 to 10 using a while loop ? "
   ]
  },
  {
   "cell_type": "code",
   "execution_count": 72,
   "metadata": {},
   "outputs": [
    {
     "name": "stdout",
     "output_type": "stream",
     "text": [
      "1 2 3 4 5 6 7 8 9 10 \n",
      "\n",
      "1 2 3 4 5 6 7 8 9 10 "
     ]
    }
   ],
   "source": [
    "# Using a for loop:\n",
    "for i in range(1, 11):\n",
    "    print(i, end=\" \")\n",
    "print('\\n')\n",
    "\n",
    "# Using a while loop:\n",
    "i = 1\n",
    "while i <= 10:\n",
    "    print(i, end=\" \")\n",
    "    i += 1\n"
   ]
  },
  {
   "cell_type": "markdown",
   "metadata": {},
   "source": [
    "#### 13. If you had a function named bacon() inside a module named spam, how would you call it after importing spam ?\n",
    "**Ans:** \n",
    "```python\n",
    "import spam  # Import the module named spam\n",
    "spam.bacon()  # Call the bacon() function from the spam module\n",
    "```\n",
    "**`spam.bacon()`**: This accesses and calls the `bacon()` function defined in the `spam` module. "
   ]
  }
 ],
 "metadata": {
  "kernelspec": {
   "display_name": "Python 3 (ipykernel)",
   "language": "python",
   "name": "python3"
  },
  "language_info": {
   "codemirror_mode": {
    "name": "ipython",
    "version": 3
   },
   "file_extension": ".py",
   "mimetype": "text/x-python",
   "name": "python",
   "nbconvert_exporter": "python",
   "pygments_lexer": "ipython3",
   "version": "3.12.4"
  }
 },
 "nbformat": 4,
 "nbformat_minor": 4
}
